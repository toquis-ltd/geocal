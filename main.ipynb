{
 "cells": [
  {
   "cell_type": "markdown",
   "metadata": {},
   "source": [
    "# Tests lab"
   ]
  },
  {
   "cell_type": "code",
   "execution_count": 36,
   "metadata": {},
   "outputs": [],
   "source": [
    "from pyproj import  transformer, network\n",
    "import pyproj\n",
    "network.set_network_enabled(True)\n"
   ]
  },
  {
   "cell_type": "markdown",
   "metadata": {},
   "source": [
    "# Don't forget to allow network\n",
    "\n",
    "PROJ_NETWORK=ON"
   ]
  },
  {
   "cell_type": "code",
   "execution_count": null,
   "metadata": {},
   "outputs": [],
   "source": []
  },
  {
   "cell_type": "code",
   "execution_count": 3,
   "metadata": {},
   "outputs": [
    {
     "name": "stdout",
     "output_type": "stream",
     "text": [
      "4\n",
      "6\n"
     ]
    },
    {
     "name": "stderr",
     "output_type": "stream",
     "text": [
      "/mnt/c/Users/jakog/Documents/github/Entreprise/Toquis/rebuild/env/lib/python3.10/site-packages/pyproj/transformer.py:207: UserWarning: Best transformation is not available due to missing Grid(short_name=fr_ign_ntf_r93.tif, full_name=, package_name=, url=https://cdn.proj.org/fr_ign_ntf_r93.tif, direct_download=True, open_license=True, available=False)\n",
      "  super().__init__(\n"
     ]
    }
   ],
   "source": [
    "t = transformer.TransformerGroup('32231', '7423').transformers\n",
    "print(len(t))\n",
    "j = transformer.TransformerGroup('7423', '7400').transformers\n",
    "print(len(j))"
   ]
  },
  {
   "cell_type": "code",
   "execution_count": 37,
   "metadata": {},
   "outputs": [
    {
     "name": "stdout",
     "output_type": "stream",
     "text": [
      "Transformation from EVRF2007 height to NGF-IGN69 height (ballpark vertical transformation)\n",
      "Inverse of Inverse of ETRS89 to NTF (3)\n",
      "Inverse of NTF (Paris) to NTF (1)\n",
      "------------------------------------------------------------------------------------------\n",
      "Transformation from EVRF2007 height to NGF-IGN69 height (ballpark vertical transformation)\n",
      "Inverse of Inverse of ETRS89 to NTF (3)\n",
      "Inverse of NTF (Paris) to NTF (2)\n",
      "------------------------------------------------------------------------------------------\n",
      "Transformation from EVRF2007 height to NGF-IGN69 height (ballpark vertical transformation)\n",
      "Inverse of RGF93 v1 to ETRS89 (1)\n",
      "Inverse of NTF to RGF93 v1 (1)\n",
      "Inverse of NTF (Paris) to NTF (1)\n",
      "------------------------------------------------------------------------------------------\n",
      "Transformation from EVRF2007 height to NGF-IGN69 height (ballpark vertical transformation)\n",
      "Inverse of ED50 to ETRS89 (12)\n",
      "Inverse of NTF to ED50 (1)\n",
      "Inverse of NTF (Paris) to NTF (1)\n",
      "------------------------------------------------------------------------------------------\n",
      "Transformation from EVRF2007 height to NGF-IGN69 height (ballpark vertical transformation)\n",
      "Inverse of ED50 to ETRS89 (14)\n",
      "Inverse of NTF to ED50 (1)\n",
      "Inverse of NTF (Paris) to NTF (1)\n",
      "------------------------------------------------------------------------------------------\n",
      "Transformation from EVRF2007 height to NGF-IGN69 height (ballpark vertical transformation)\n",
      "Ballpark geographic offset from ETRS89 to NTF (Paris) altered to use prime meridian of ETRS89\n",
      "Transformation from ETRS89 to NTF (Paris) altered to use prime meridian of ETRS89\n",
      "------------------------------------------------------------------------------------------\n",
      "Transformation from EVRF2007 height to NGF-IGN69 height (ballpark vertical transformation)\n",
      "Inverse of NTF to ETRS89 (1)\n",
      "Inverse of NTF (Paris) to NTF (1)\n",
      "------------------------------------------------------------------------------------------\n",
      "Transformation from EVRF2007 height to NGF-IGN69 height (ballpark vertical transformation)\n",
      "Inverse of NTF to ETRS89 (1)\n",
      "Inverse of NTF (Paris) to NTF (2)\n",
      "------------------------------------------------------------------------------------------\n",
      "Transformation from EVRF2007 height to NGF-IGN69 height (ballpark vertical transformation)\n",
      "ETRS89 to WGS 84 (1)\n",
      "Inverse of NTF to WGS 84 (1)\n",
      "Inverse of NTF (Paris) to NTF (1)\n",
      "------------------------------------------------------------------------------------------\n",
      "Transformation from EVRF2007 height to NGF-IGN69 height (ballpark vertical transformation)\n",
      "Inverse of ED50 to ETRS89 (7)\n",
      "Inverse of NTF to ED50 (1)\n",
      "Inverse of NTF (Paris) to NTF (1)\n",
      "------------------------------------------------------------------------------------------\n",
      "Transformation from EVRF2007 height to NGF-IGN69 height (ballpark vertical transformation)\n",
      "Inverse of ED50 to ETRS89 (8)\n",
      "Inverse of NTF to ED50 (1)\n",
      "Inverse of NTF (Paris) to NTF (1)\n",
      "------------------------------------------------------------------------------------------\n"
     ]
    }
   ],
   "source": [
    "# t = transformer.TransformerGroup('7423', '7400').transformers\n",
    "\n",
    "for i in transformer.TransformerGroup('7423', '7400').transformers:\n",
    "    print('\\n'.join(i.description.split(\" + \")))\n",
    "    print('-----'*18)\n"
   ]
  },
  {
   "cell_type": "code",
   "execution_count": 40,
   "metadata": {},
   "outputs": [
    {
     "name": "stdout",
     "output_type": "stream",
     "text": [
      "(856653.7114768995, 6472052.9121188745)\n"
     ]
    }
   ],
   "source": [
    "t = transformer.TransformerGroup('6893', '5698').transformers[0]\n",
    "print(t.transform(556597.4539663679, 5643224.164898887))"
   ]
  },
  {
   "cell_type": "code",
   "execution_count": 39,
   "metadata": {},
   "outputs": [],
   "source": [
    "t = transformer.TransformerGroup('4326', '5698').transformers[0]\n",
    "# print(t.transform(45.33, 5))\n",
    "d = transformer.TransformerGroup('4326', '5720').transformers\n",
    "# print(t.transform(856653.7114768995, 5643224.164898887))"
   ]
  }
 ],
 "metadata": {
  "kernelspec": {
   "display_name": "env",
   "language": "python",
   "name": "python3"
  },
  "language_info": {
   "codemirror_mode": {
    "name": "ipython",
    "version": 3
   },
   "file_extension": ".py",
   "mimetype": "text/x-python",
   "name": "python",
   "nbconvert_exporter": "python",
   "pygments_lexer": "ipython3",
   "version": "3.10.4"
  },
  "orig_nbformat": 4
 },
 "nbformat": 4,
 "nbformat_minor": 2
}
