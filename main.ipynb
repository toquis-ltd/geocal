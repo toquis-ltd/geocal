{
 "cells": [
  {
   "cell_type": "markdown",
   "metadata": {},
   "source": [
    "# Tests lab"
   ]
  },
  {
   "cell_type": "code",
   "execution_count": 3,
   "metadata": {},
   "outputs": [],
   "source": [
    "import pyproj\n",
    "from pyproj import  transformer, network\n",
    "from pyproj.database import query_crs_info\n",
    "import pandas as pd\n",
    "import geopandas as gdp\n",
    "\n",
    "network.set_network_enabled(True)\n"
   ]
  },
  {
   "cell_type": "markdown",
   "metadata": {},
   "source": [
    "# List prebuilded crs"
   ]
  },
  {
   "cell_type": "code",
   "execution_count": 49,
   "metadata": {},
   "outputs": [
    {
     "data": {
      "text/plain": [
       "{'auth_name': 'EPSG',\n",
       " 'code': '2000',\n",
       " 'name': 'Anguilla 1957 / British West Indies Grid',\n",
       " 'type': <PJType.PROJECTED_CRS: 'PROJECTED_CRS'>,\n",
       " 'deprecated': False,\n",
       " 'area_of_use': AreaOfUse(west=-63.22, south=18.11, east=-62.92, north=18.33, name='Anguilla - onshore.'),\n",
       " 'projection_method_name': 'Transverse Mercator'}"
      ]
     },
     "execution_count": 49,
     "metadata": {},
     "output_type": "execute_result"
    }
   ],
   "source": [
    "crs_list = list(query_crs_info(auth_name='EPSG'))\n",
    "crs_list[0]._asdict()"
   ]
  },
  {
   "cell_type": "markdown",
   "metadata": {},
   "source": [
    "# How to use transformation"
   ]
  },
  {
   "cell_type": "code",
   "execution_count": 261,
   "metadata": {},
   "outputs": [
    {
     "name": "stdout",
     "output_type": "stream",
     "text": [
      "-120 45->(-1.363802263635756, -5.983693036872465)\n",
      "- name: World\n",
      "- bounds: (-180.0, -90.0, 180.0, 90.0)\n",
      "-1.0\n",
      "Inverse of Lambert-93 + Transformation from NGF-IGN69 height to EVRF2019 mean-tide height (ballpark vertical transformation) + Ballpark geographic offset from RGF93 v1 to ETRS89 + axis order change (2D)\n",
      "------------\n"
     ]
    },
    {
     "data": {
      "text/plain": [
       "<Coordinate Operation: Other Coordinate Operation>\n",
       "Name: Inverse of Lambert-93 + Transformation from NGF-IGN69 height to EVRF2019 mean-tide height (ballpark vertical transformation) + Ballpark geographic offset from RGF93 v1 to ETRS89\n",
       "Method: PROJ-based operation method (approximate): +proj=pipeline +step +inv +proj=lcc +lat_0=46.5 +lon_0=3 +lat_1=49 +lat_2=44 +x_0=700000 +y_0=6600000 +ellps=GRS80 +step +proj=unitconvert +xy_in=rad +xy_out=deg +step +proj=axisswap +order=2,1\n",
       "Area of Use:\n",
       "- name: World\n",
       "- bounds: (-180.0, -90.0, 180.0, 90.0)"
      ]
     },
     "execution_count": 261,
     "metadata": {},
     "output_type": "execute_result"
    }
   ],
   "source": [
    "#always_xy garanty we do have lon lat always \n",
    "t:pyproj.Transformer = pyproj.transformer.TransformerGroup('5698', '9423', always_xy=True).transformers[0]\n",
    "\n",
    "print(-120, 45, end=\"->\")\n",
    "print(t.transform(-114.12, 32.53))\n",
    "\n",
    "print(t.area_of_use)\n",
    "print(t.accuracy)\n",
    "print(t.description)\n",
    "print(\"-\"*12)\n",
    "\n",
    "# res:pyproj.CRS.coordinate_operation = \n",
    "# res.to_json_dict().get(\"id\").get()"
   ]
  },
  {
   "cell_type": "code",
   "execution_count": 117,
   "metadata": {},
   "outputs": [
    {
     "data": {
      "text/plain": [
       "<GeometryArray>\n",
       "[<POINT (6035628.635 5854817.168)>, <POINT (6321371.06 3820408.085)>]\n",
       "Length: 2, dtype: geometry"
      ]
     },
     "execution_count": 117,
     "metadata": {},
     "output_type": "execute_result"
    }
   ],
   "source": [
    "# Transform a pandas table\n",
    "\n",
    "dt = pd.DataFrame()\n",
    "dt['x'] = [-120, -118.84841]\n",
    "dt['y'] = [45, 39.48]\n",
    "dt['z'] = [45, 35]\n",
    "\n",
    "\n",
    "dt[['x', 'y', 'z']] = dt.apply(lambda row: pd.Series(t.transform(row['x'], row['y'], row['z'])), axis=1)\n",
    "geometry = gdp.points_from_xy(dt['x'], dt['y'])\n",
    "geometry"
   ]
  },
  {
   "cell_type": "markdown",
   "metadata": {},
   "source": [
    "# List of transformations\n",
    "The main issue about listing transformations is the number; we have 6,400 coordinates in the reference system, which means we have approximately 6,400! transformations."
   ]
  },
  {
   "cell_type": "code",
   "execution_count": 3,
   "metadata": {},
   "outputs": [
    {
     "name": "stderr",
     "output_type": "stream",
     "text": [
      "c:\\Users\\jakog\\anaconda3\\envs\\pygdal\\lib\\site-packages\\pyproj\\transformer.py:207: UserWarning: Best transformation is not available due to missing Grid(short_name=NLCSRSV4A.GSB, full_name=, package_name=, url=, direct_download=False, open_license=False, available=False)\n",
      "  super().__init__(\n",
      "c:\\Users\\jakog\\anaconda3\\envs\\pygdal\\lib\\site-packages\\pyproj\\transformer.py:207: UserWarning: Best transformation is not available due to missing Grid(short_name=ca_que_mern_cq77na83.tif, full_name=, package_name=, url=https://cdn.proj.org/ca_que_mern_cq77na83.tif, direct_download=True, open_license=True, available=True)\n",
      "  super().__init__(\n",
      "c:\\Users\\jakog\\anaconda3\\envs\\pygdal\\lib\\site-packages\\pyproj\\transformer.py:207: UserWarning: Best transformation is not available due to missing Grid(short_name=ca_que_mern_cq77na83.tif, full_name=https://cdn.proj.org/ca_que_mern_cq77na83.tif, package_name=, url=https://cdn.proj.org/ca_que_mern_cq77na83.tif, direct_download=True, open_license=True, available=True)\n",
      "  super().__init__(\n",
      "c:\\Users\\jakog\\anaconda3\\envs\\pygdal\\lib\\site-packages\\pyproj\\transformer.py:207: UserWarning: Best transformation is not available due to missing Grid(short_name=ca_nrc_MAY76V20.tif, full_name=https://cdn.proj.org/ca_nrc_MAY76V20.tif, package_name=, url=https://cdn.proj.org/ca_nrc_MAY76V20.tif, direct_download=True, open_license=True, available=True)\n",
      "  super().__init__(\n"
     ]
    }
   ],
   "source": [
    "crs_list = list(query_crs_info(auth_name='EPSG'))\n",
    "with open('file.txt', 'w') as file:\n",
    "    for i in crs_list:\n",
    "        for j in crs_list:\n",
    "            try:\n",
    "                for t in transformer.TransformerGroup(i.code, j.code).transformers:\n",
    "                        file.write('\\n'.join(t.description.split(\" + \")))\n",
    "                        file.write(str(t.transform_bounds)+'\\n')\n",
    "                        file.write(t.to_proj4()+'\\n')\n",
    "                        file.write('-----'*18+'\\n')\n",
    "                        file.write('-----'*18+'\\n')\n",
    "            except:\n",
    "                pass"
   ]
  },
  {
   "cell_type": "markdown",
   "metadata": {},
   "source": [
    "# 3D transformation CRS building"
   ]
  },
  {
   "cell_type": "code",
   "execution_count": 5,
   "metadata": {},
   "outputs": [
    {
     "ename": "CRSError",
     "evalue": "Invalid projection: {\"$schema\": \"https://proj.org/schemas/v0.2/projjson.schema.json\", \"type\": \"CompoundCRS\", \"name\": \"tmp\", \"components\": [{\"$schema\": \"https://proj.org/schemas/v0.7/projjson.schema.json\", \"type\": \"CompoundCRS\", \"name\": \"NAD83 / California zone 5 (ftUS) + NAVD88 height (ftUS)\", \"components\": [{\"type\": \"ProjectedCRS\", \"name\": \"NAD83 / California zone 5 (ftUS)\", \"base_crs\": {\"name\": \"NAD83\", \"datum\": {\"type\": \"GeodeticReferenceFrame\", \"name\": \"North American Datum 1983\", \"ellipsoid\": {\"name\": \"GRS 1980\", \"semi_major_axis\": 6378137, \"inverse_flattening\": 298.257222101}}, \"coordinate_system\": {\"subtype\": \"ellipsoidal\", \"axis\": [{\"name\": \"Geodetic latitude\", \"abbreviation\": \"Lat\", \"direction\": \"north\", \"unit\": \"degree\"}, {\"name\": \"Geodetic longitude\", \"abbreviation\": \"Lon\", \"direction\": \"east\", \"unit\": \"degree\"}]}, \"id\": {\"authority\": \"EPSG\", \"code\": 4269}}, \"conversion\": {\"name\": \"SPCS83 California zone 5 (US Survey feet)\", \"method\": {\"name\": \"Lambert Conic Conformal (2SP)\", \"id\": {\"authority\": \"EPSG\", \"code\": 9802}}, \"parameters\": [{\"name\": \"Latitude of false origin\", \"value\": 33.5, \"unit\": \"degree\", \"id\": {\"authority\": \"EPSG\", \"code\": 8821}}, {\"name\": \"Longitude of false origin\", \"value\": -118, \"unit\": \"degree\", \"id\": {\"authority\": \"EPSG\", \"code\": 8822}}, {\"name\": \"Latitude of 1st standard parallel\", \"value\": 35.4666666666667, \"unit\": \"degree\", \"id\": {\"authority\": \"EPSG\", \"code\": 8823}}, {\"name\": \"Latitude of 2nd standard parallel\", \"value\": 34.0333333333333, \"unit\": \"degree\", \"id\": {\"authority\": \"EPSG\", \"code\": 8824}}, {\"name\": \"Easting at false origin\", \"value\": 6561666.667, \"unit\": {\"type\": \"LinearUnit\", \"name\": \"US survey foot\", \"conversion_factor\": 0.304800609601219}, \"id\": {\"authority\": \"EPSG\", \"code\": 8826}}, {\"name\": \"Northing at false origin\", \"value\": 1640416.667, \"unit\": {\"type\": \"LinearUnit\", \"name\": \"US survey foot\", \"conversion_factor\": 0.304800609601219}, \"id\": {\"authority\": \"EPSG\", \"code\": 8827}}]}, \"coordinate_system\": {\"subtype\": \"Cartesian\", \"axis\": [{\"name\": \"Easting\", \"abbreviation\": \"X\", \"direction\": \"east\", \"unit\": {\"type\": \"LinearUnit\", \"name\": \"US survey foot\", \"conversion_factor\": 0.304800609601219}}, {\"name\": \"Northing\", \"abbreviation\": \"Y\", \"direction\": \"north\", \"unit\": {\"type\": \"LinearUnit\", \"name\": \"US survey foot\", \"conversion_factor\": 0.304800609601219}}]}}, {\"type\": \"VerticalCRS\", \"name\": \"NAVD88 height (ftUS)\", \"datum\": {\"type\": \"VerticalReferenceFrame\", \"name\": \"North American Vertical Datum 1988\"}, \"coordinate_system\": {\"subtype\": \"vertical\", \"axis\": [{\"name\": \"Gravity-related height\", \"abbreviation\": \"H\", \"direction\": \"up\", \"unit\": {\"type\": \"LinearUnit\", \"name\": \"US survey foot\", \"conversion_factor\": 0.304800609601219}}]}}], \"scope\": \"Engineering survey, topographic mapping.\", \"area\": \"United States (USA) - California - counties Kern; Los Angeles; San Bernardino; San Luis Obispo; Santa Barbara; Ventura.\", \"bbox\": {\"south_latitude\": 32.76, \"west_longitude\": -121.42, \"north_latitude\": 35.81, \"east_longitude\": -114.12}, \"id\": {\"authority\": \"EPSG\", \"code\": 8718}}, {\"$schema\": \"https://proj.org/schemas/v0.7/projjson.schema.json\", \"type\": \"VerticalCRS\", \"name\": \"NAVD88 height\", \"datum\": {\"type\": \"VerticalReferenceFrame\", \"name\": \"North American Vertical Datum 1988\"}, \"coordinate_system\": {\"subtype\": \"vertical\", \"axis\": [{\"name\": \"Gravity-related height\", \"abbreviation\": \"H\", \"direction\": \"up\", \"unit\": \"metre\"}]}, \"scope\": \"Geodesy, engineering survey, topographic mapping.\", \"area\": \"Mexico - onshore. United States (USA) - CONUS and Alaska - onshore - Alabama; Alaska; Arizona; Arkansas; California; Colorado; Connecticut; Delaware; Florida; Georgia; Idaho; Illinois; Indiana; Iowa; Kansas; Kentucky; Louisiana; Maine; Maryland; Massachusetts; Michigan; Minnesota; Mississippi; Missouri; Montana; Nebraska; Nevada; New Hampshire; New Jersey; New Mexico; New York; North Carolina; North Dakota; Ohio; Oklahoma; Oregon; Pennsylvania; Rhode Island; South Carolina; South Dakota; Tennessee; Texas; Utah; Vermont; Virginia; Washington; West Virginia; Wisconsin; Wyoming.\", \"bbox\": {\"south_latitude\": 14.51, \"west_longitude\": 172.42, \"north_latitude\": 71.4, \"east_longitude\": -66.91}, \"id\": {\"authority\": \"EPSG\", \"code\": 5703}}]}: (Internal Proj Error: proj_create: components of the compound CRS do not belong to one of the allowed combinations of http://docs.opengeospatial.org/as/18-005r5/18-005r5.html#34)",
     "output_type": "error",
     "traceback": [
      "\u001b[0;31m---------------------------------------------------------------------------\u001b[0m",
      "\u001b[0;31mCRSError\u001b[0m                                  Traceback (most recent call last)",
      "\u001b[1;32m/mnt/c/Users/jakog/Documents/github/Entreprise/Toquis/rebuild/main.ipynb Cell 11\u001b[0m line \u001b[0;36m1\n\u001b[1;32m     <a href='vscode-notebook-cell://wsl%2Bubuntu-22.04/mnt/c/Users/jakog/Documents/github/Entreprise/Toquis/rebuild/main.ipynb#X13sdnNjb2RlLXJlbW90ZQ%3D%3D?line=9'>10</a>\u001b[0m vertcrs \u001b[39m=\u001b[39m pyproj\u001b[39m.\u001b[39mCRS\u001b[39m.\u001b[39mfrom_user_input(hieght_epsg)\n\u001b[1;32m     <a href='vscode-notebook-cell://wsl%2Bubuntu-22.04/mnt/c/Users/jakog/Documents/github/Entreprise/Toquis/rebuild/main.ipynb#X13sdnNjb2RlLXJlbW90ZQ%3D%3D?line=10'>11</a>\u001b[0m projcrs \u001b[39m=\u001b[39m pyproj\u001b[39m.\u001b[39mCRS\u001b[39m.\u001b[39mfrom_user_input(projected_epsg)\n\u001b[0;32m---> <a href='vscode-notebook-cell://wsl%2Bubuntu-22.04/mnt/c/Users/jakog/Documents/github/Entreprise/Toquis/rebuild/main.ipynb#X13sdnNjb2RlLXJlbW90ZQ%3D%3D?line=12'>13</a>\u001b[0m compcrs \u001b[39m=\u001b[39m CompoundCRS(\n\u001b[1;32m     <a href='vscode-notebook-cell://wsl%2Bubuntu-22.04/mnt/c/Users/jakog/Documents/github/Entreprise/Toquis/rebuild/main.ipynb#X13sdnNjb2RlLXJlbW90ZQ%3D%3D?line=13'>14</a>\u001b[0m     name\u001b[39m=\u001b[39;49m\u001b[39m'\u001b[39;49m\u001b[39mtmp\u001b[39;49m\u001b[39m'\u001b[39;49m, components\u001b[39m=\u001b[39;49m[projcrs, vertcrs]\n\u001b[1;32m     <a href='vscode-notebook-cell://wsl%2Bubuntu-22.04/mnt/c/Users/jakog/Documents/github/Entreprise/Toquis/rebuild/main.ipynb#X13sdnNjb2RlLXJlbW90ZQ%3D%3D?line=14'>15</a>\u001b[0m )\n\u001b[1;32m     <a href='vscode-notebook-cell://wsl%2Bubuntu-22.04/mnt/c/Users/jakog/Documents/github/Entreprise/Toquis/rebuild/main.ipynb#X13sdnNjb2RlLXJlbW90ZQ%3D%3D?line=16'>17</a>\u001b[0m t \u001b[39m=\u001b[39m transformer\u001b[39m.\u001b[39mTransformerGroup(source_epsg, projcrs, always_xy\u001b[39m=\u001b[39m\u001b[39mTrue\u001b[39;00m)\u001b[39m.\u001b[39mtransformers[\u001b[39m0\u001b[39m]\n\u001b[1;32m     <a href='vscode-notebook-cell://wsl%2Bubuntu-22.04/mnt/c/Users/jakog/Documents/github/Entreprise/Toquis/rebuild/main.ipynb#X13sdnNjb2RlLXJlbW90ZQ%3D%3D?line=17'>18</a>\u001b[0m lat, long, z \u001b[39m=\u001b[39m \u001b[39m41.203323\u001b[39m,  \u001b[39m-\u001b[39m\u001b[39m77.194527\u001b[39m, \u001b[39m17\u001b[39m\n",
      "File \u001b[0;32m/mnt/c/Users/jakog/Documents/github/Entreprise/Toquis/rebuild/env/lib/python3.10/site-packages/pyproj/crs/crs.py:2047\u001b[0m, in \u001b[0;36mCompoundCRS.__init__\u001b[0;34m(self, name, components)\u001b[0m\n\u001b[1;32m   2028\u001b[0m \u001b[39m\u001b[39m\u001b[39m\"\"\"\u001b[39;00m\n\u001b[1;32m   2029\u001b[0m \u001b[39mParameters\u001b[39;00m\n\u001b[1;32m   2030\u001b[0m \u001b[39m----------\u001b[39;00m\n\u001b[0;32m   (...)\u001b[0m\n\u001b[1;32m   2035\u001b[0m \u001b[39m    List of anything accepted by :meth:`pyproj.crs.CRS.from_user_input`\u001b[39;00m\n\u001b[1;32m   2036\u001b[0m \u001b[39m\"\"\"\u001b[39;00m\n\u001b[1;32m   2037\u001b[0m compound_crs_json \u001b[39m=\u001b[39m {\n\u001b[1;32m   2038\u001b[0m     \u001b[39m\"\u001b[39m\u001b[39m$schema\u001b[39m\u001b[39m\"\u001b[39m: \u001b[39m\"\u001b[39m\u001b[39mhttps://proj.org/schemas/v0.2/projjson.schema.json\u001b[39m\u001b[39m\"\u001b[39m,\n\u001b[1;32m   2039\u001b[0m     \u001b[39m\"\u001b[39m\u001b[39mtype\u001b[39m\u001b[39m\"\u001b[39m: \u001b[39m\"\u001b[39m\u001b[39mCompoundCRS\u001b[39m\u001b[39m\"\u001b[39m,\n\u001b[0;32m   (...)\u001b[0m\n\u001b[1;32m   2044\u001b[0m     ],\n\u001b[1;32m   2045\u001b[0m }\n\u001b[0;32m-> 2047\u001b[0m \u001b[39msuper\u001b[39;49m()\u001b[39m.\u001b[39;49m\u001b[39m__init__\u001b[39;49m(compound_crs_json)\n",
      "File \u001b[0;32m/mnt/c/Users/jakog/Documents/github/Entreprise/Toquis/rebuild/env/lib/python3.10/site-packages/pyproj/crs/crs.py:348\u001b[0m, in \u001b[0;36mCRS.__init__\u001b[0;34m(self, projparams, **kwargs)\u001b[0m\n\u001b[1;32m    346\u001b[0m     \u001b[39mself\u001b[39m\u001b[39m.\u001b[39m_local\u001b[39m.\u001b[39mcrs \u001b[39m=\u001b[39m projparams\n\u001b[1;32m    347\u001b[0m \u001b[39melse\u001b[39;00m:\n\u001b[0;32m--> 348\u001b[0m     \u001b[39mself\u001b[39m\u001b[39m.\u001b[39m_local\u001b[39m.\u001b[39mcrs \u001b[39m=\u001b[39m _CRS(\u001b[39mself\u001b[39;49m\u001b[39m.\u001b[39;49msrs)\n",
      "File \u001b[0;32m/mnt/c/Users/jakog/Documents/github/Entreprise/Toquis/rebuild/env/lib/python3.10/site-packages/pyproj/_crs.pyx:2378\u001b[0m, in \u001b[0;36mpyproj._crs._CRS.__init__\u001b[0;34m()\u001b[0m\n",
      "\u001b[0;31mCRSError\u001b[0m: Invalid projection: {\"$schema\": \"https://proj.org/schemas/v0.2/projjson.schema.json\", \"type\": \"CompoundCRS\", \"name\": \"tmp\", \"components\": [{\"$schema\": \"https://proj.org/schemas/v0.7/projjson.schema.json\", \"type\": \"CompoundCRS\", \"name\": \"NAD83 / California zone 5 (ftUS) + NAVD88 height (ftUS)\", \"components\": [{\"type\": \"ProjectedCRS\", \"name\": \"NAD83 / California zone 5 (ftUS)\", \"base_crs\": {\"name\": \"NAD83\", \"datum\": {\"type\": \"GeodeticReferenceFrame\", \"name\": \"North American Datum 1983\", \"ellipsoid\": {\"name\": \"GRS 1980\", \"semi_major_axis\": 6378137, \"inverse_flattening\": 298.257222101}}, \"coordinate_system\": {\"subtype\": \"ellipsoidal\", \"axis\": [{\"name\": \"Geodetic latitude\", \"abbreviation\": \"Lat\", \"direction\": \"north\", \"unit\": \"degree\"}, {\"name\": \"Geodetic longitude\", \"abbreviation\": \"Lon\", \"direction\": \"east\", \"unit\": \"degree\"}]}, \"id\": {\"authority\": \"EPSG\", \"code\": 4269}}, \"conversion\": {\"name\": \"SPCS83 California zone 5 (US Survey feet)\", \"method\": {\"name\": \"Lambert Conic Conformal (2SP)\", \"id\": {\"authority\": \"EPSG\", \"code\": 9802}}, \"parameters\": [{\"name\": \"Latitude of false origin\", \"value\": 33.5, \"unit\": \"degree\", \"id\": {\"authority\": \"EPSG\", \"code\": 8821}}, {\"name\": \"Longitude of false origin\", \"value\": -118, \"unit\": \"degree\", \"id\": {\"authority\": \"EPSG\", \"code\": 8822}}, {\"name\": \"Latitude of 1st standard parallel\", \"value\": 35.4666666666667, \"unit\": \"degree\", \"id\": {\"authority\": \"EPSG\", \"code\": 8823}}, {\"name\": \"Latitude of 2nd standard parallel\", \"value\": 34.0333333333333, \"unit\": \"degree\", \"id\": {\"authority\": \"EPSG\", \"code\": 8824}}, {\"name\": \"Easting at false origin\", \"value\": 6561666.667, \"unit\": {\"type\": \"LinearUnit\", \"name\": \"US survey foot\", \"conversion_factor\": 0.304800609601219}, \"id\": {\"authority\": \"EPSG\", \"code\": 8826}}, {\"name\": \"Northing at false origin\", \"value\": 1640416.667, \"unit\": {\"type\": \"LinearUnit\", \"name\": \"US survey foot\", \"conversion_factor\": 0.304800609601219}, \"id\": {\"authority\": \"EPSG\", \"code\": 8827}}]}, \"coordinate_system\": {\"subtype\": \"Cartesian\", \"axis\": [{\"name\": \"Easting\", \"abbreviation\": \"X\", \"direction\": \"east\", \"unit\": {\"type\": \"LinearUnit\", \"name\": \"US survey foot\", \"conversion_factor\": 0.304800609601219}}, {\"name\": \"Northing\", \"abbreviation\": \"Y\", \"direction\": \"north\", \"unit\": {\"type\": \"LinearUnit\", \"name\": \"US survey foot\", \"conversion_factor\": 0.304800609601219}}]}}, {\"type\": \"VerticalCRS\", \"name\": \"NAVD88 height (ftUS)\", \"datum\": {\"type\": \"VerticalReferenceFrame\", \"name\": \"North American Vertical Datum 1988\"}, \"coordinate_system\": {\"subtype\": \"vertical\", \"axis\": [{\"name\": \"Gravity-related height\", \"abbreviation\": \"H\", \"direction\": \"up\", \"unit\": {\"type\": \"LinearUnit\", \"name\": \"US survey foot\", \"conversion_factor\": 0.304800609601219}}]}}], \"scope\": \"Engineering survey, topographic mapping.\", \"area\": \"United States (USA) - California - counties Kern; Los Angeles; San Bernardino; San Luis Obispo; Santa Barbara; Ventura.\", \"bbox\": {\"south_latitude\": 32.76, \"west_longitude\": -121.42, \"north_latitude\": 35.81, \"east_longitude\": -114.12}, \"id\": {\"authority\": \"EPSG\", \"code\": 8718}}, {\"$schema\": \"https://proj.org/schemas/v0.7/projjson.schema.json\", \"type\": \"VerticalCRS\", \"name\": \"NAVD88 height\", \"datum\": {\"type\": \"VerticalReferenceFrame\", \"name\": \"North American Vertical Datum 1988\"}, \"coordinate_system\": {\"subtype\": \"vertical\", \"axis\": [{\"name\": \"Gravity-related height\", \"abbreviation\": \"H\", \"direction\": \"up\", \"unit\": \"metre\"}]}, \"scope\": \"Geodesy, engineering survey, topographic mapping.\", \"area\": \"Mexico - onshore. United States (USA) - CONUS and Alaska - onshore - Alabama; Alaska; Arizona; Arkansas; California; Colorado; Connecticut; Delaware; Florida; Georgia; Idaho; Illinois; Indiana; Iowa; Kansas; Kentucky; Louisiana; Maine; Maryland; Massachusetts; Michigan; Minnesota; Mississippi; Missouri; Montana; Nebraska; Nevada; New Hampshire; New Jersey; New Mexico; New York; North Carolina; North Dakota; Ohio; Oklahoma; Oregon; Pennsylvania; Rhode Island; South Carolina; South Dakota; Tennessee; Texas; Utah; Vermont; Virginia; Washington; West Virginia; Wisconsin; Wyoming.\", \"bbox\": {\"south_latitude\": 14.51, \"west_longitude\": 172.42, \"north_latitude\": 71.4, \"east_longitude\": -66.91}, \"id\": {\"authority\": \"EPSG\", \"code\": 5703}}]}: (Internal Proj Error: proj_create: components of the compound CRS do not belong to one of the allowed combinations of http://docs.opengeospatial.org/as/18-005r5/18-005r5.html#34)"
     ]
    }
   ],
   "source": [
    "from pyproj.crs import CompoundCRS, GeographicCRS, ProjectedCRS, VerticalCRS\n",
    "from pyproj.crs.coordinate_system import Cartesian2DCS, VerticalCS\n",
    "from pyproj.crs.coordinate_operation import LambertConformalConic2SPConversion\n",
    "\n",
    "source_epsg = 4326\n",
    "hieght_epsg= 5703\n",
    "projected_epsg = 8718\n",
    "\n",
    "\n",
    "vertcrs = pyproj.CRS.from_user_input(hieght_epsg)\n",
    "projcrs = pyproj.CRS.from_user_input(projected_epsg)\n",
    "\n",
    "compcrs = CompoundCRS(\n",
    "    name='tmp', components=[projcrs, vertcrs]\n",
    ")\n",
    "\n",
    "t = transformer.TransformerGroup(source_epsg, projcrs, always_xy=True).transformers[0]\n",
    "lat, long, z = 41.203323,  -77.194527, 17\n",
    "\n",
    "t.transform(long,lat,  z)"
   ]
  },
  {
   "cell_type": "code",
   "execution_count": null,
   "metadata": {},
   "outputs": [],
   "source": []
  },
  {
   "cell_type": "code",
   "execution_count": 3,
   "metadata": {},
   "outputs": [
    {
     "name": "stdout",
     "output_type": "stream",
     "text": [
      "KILOMETRE = \"kilometre\", \n",
      "US_SURVEY_FOOT = \"US survey foot\", \n",
      "BRITISH_YARD_SEARS_1922 = \"British yard (Sears 1922)\", \n",
      "METRE = \"metre\", \n",
      "CLARKES_FOOT = \"Clarke's foot\", \n",
      "GERMAN_LEGAL_METRE = \"German legal metre\", \n",
      "BRITISH_CHAIN_SEARS_1922_TRUNCATED = \"British chain (Sears 1922 truncated)\", \n",
      "BRITISH_FOOT_SEARS_1922 = \"British foot (Sears 1922)\", \n",
      "CLARKES_LINK = \"Clarke's link\", \n",
      "INDIAN_YARD = \"Indian yard\", \n",
      "LINK = \"link\", \n",
      "GRAD = \"grad\", \n",
      "BRITISH_CHAIN_SEARS_1922 = \"British chain (Sears 1922)\", \n",
      "BRITISH_FOOT_1936 = \"British foot (1936)\", \n",
      "DEGREE = \"degree\", \n",
      "GOLD_COAST_FOOT = \"Gold Coast foot\", \n",
      "FOOT = \"foot\", \n",
      "CLARKES_YARD = \"Clarke's yard\", \n"
     ]
    }
   ],
   "source": [
    "import json\n",
    "\n",
    "#load data\n",
    "with open(\"./front/src/data/crs.json\", \"rb\") as file:\n",
    "    data = json.load(file)\n",
    "\n",
    "\n",
    "unities = []\n",
    "for item in data:\n",
    "    unities.append(item.get('unity'))\n",
    "\n",
    "unities = list(set(unities))\n",
    "titles = unities.copy()\n",
    "\n",
    "for i in range(len(unities)):\n",
    "   unities[i] =  unities[i].replace('(', '')\n",
    "   unities[i] =  unities[i].replace(')', '')\n",
    "   unities[i] =  unities[i].replace(' ', '_')\n",
    "   unities[i] =  unities[i].replace(\"'\", '')\n",
    "   unities[i] =  unities[i].upper()\n",
    "\n",
    "for i, j in zip(unities, titles):\n",
    "    print(f'{i} = \"{j}\", ')\n"
   ]
  }
 ],
 "metadata": {
  "kernelspec": {
   "display_name": "gdalenv",
   "language": "python",
   "name": "pygdal"
  },
  "language_info": {
   "codemirror_mode": {
    "name": "ipython",
    "version": 3
   },
   "file_extension": ".py",
   "mimetype": "text/x-python",
   "name": "python",
   "nbconvert_exporter": "python",
   "pygments_lexer": "ipython3",
   "version": "3.9.6"
  },
  "orig_nbformat": 4
 },
 "nbformat": 4,
 "nbformat_minor": 2
}
