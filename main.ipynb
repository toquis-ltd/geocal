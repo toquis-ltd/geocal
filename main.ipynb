{
 "cells": [
  {
   "cell_type": "markdown",
   "metadata": {},
   "source": [
    "# Tests lab"
   ]
  },
  {
   "cell_type": "code",
   "execution_count": 2,
   "metadata": {},
   "outputs": [],
   "source": [
    "# !pip install pyproj\n",
    "import pyproj\n",
    "from pyproj import  transformer, network\n",
    "from pyproj.database import query_crs_info\n",
    "network.set_network_enabled(True)"
   ]
  },
  {
   "cell_type": "markdown",
   "metadata": {},
   "source": [
    "# Don't forget to allow network\n",
    "\n",
    "PROJ_NETWORK=ON"
   ]
  },
  {
   "cell_type": "code",
   "execution_count": null,
   "metadata": {},
   "outputs": [],
   "source": []
  },
  {
   "cell_type": "code",
   "execution_count": 5,
   "metadata": {},
   "outputs": [
    {
     "name": "stdout",
     "output_type": "stream",
     "text": [
      "5\n",
      "11\n"
     ]
    }
   ],
   "source": [
    "t = transformer.TransformerGroup('32231', '7423').transformers\n",
    "j = transformer.TransformerGroup('7423', '7400').transformers"
   ]
  },
  {
   "cell_type": "code",
   "execution_count": 34,
   "metadata": {},
   "outputs": [
    {
     "name": "stdout",
     "output_type": "stream",
     "text": [
      "Transformation from EVRF2007 height to NGF-IGN69 height (ballpark vertical transformation)\n",
      "Inverse of Inverse of ETRS89 to NTF (3)\n",
      "Inverse of NTF (Paris) to NTF (1)\n",
      "<bound method Transformer.transform_bounds of <Other Coordinate Operation Transformer: pipeline>\n",
      "Description: Transformation from EVRF2007 height to NGF-IGN69 height (ballpark vertical transformation) + Inverse of Inverse of ETRS89 to NTF (3) + Inverse of NTF (Paris) to NTF (1)\n",
      "Area of Use:\n",
      "- name: France - onshore - mainland and Corsica.\n",
      "- bounds: (-4.87, 41.31, 9.63, 51.14)>\n",
      "+proj=pipeline +step +proj=axisswap +order=2,1 +step +proj=unitconvert +xy_in=deg +xy_out=rad +step +inv +proj=hgridshift +grids=fr_ign_ntf_r93.tif +step +proj=longlat +ellps=clrk80ign +pm=paris +step +proj=unitconvert +xy_in=rad +xy_out=grad +step +proj=axisswap +order=2,1\n",
      "------------------------------------------------------------------------------------------\n",
      "Transformation from EVRF2007 height to NGF-IGN69 height (ballpark vertical transformation)\n",
      "Inverse of Inverse of ETRS89 to NTF (3)\n",
      "Inverse of NTF (Paris) to NTF (2)\n",
      "<bound method Transformer.transform_bounds of <Other Coordinate Operation Transformer: pipeline>\n",
      "Description: Transformation from EVRF2007 height to NGF-IGN69 height (ballpark vertical transformation) + Inverse of Inverse of ETRS89 to NTF (3) + Inverse of NTF (Paris) to NTF (2)\n",
      "Area of Use:\n",
      "- name: France - onshore - mainland and Corsica.\n",
      "- bounds: (-4.87, 41.31, 9.63, 51.14)>\n",
      "+proj=pipeline +step +proj=axisswap +order=2,1 +step +proj=unitconvert +xy_in=deg +xy_out=rad +step +inv +proj=hgridshift +grids=fr_ign_ntf_r93.tif +step +inv +proj=longlat +ellps=clrk80ign +pm=-2.33720833333333 +step +proj=unitconvert +xy_in=rad +xy_out=grad +step +proj=axisswap +order=2,1\n",
      "------------------------------------------------------------------------------------------\n",
      "Transformation from EVRF2007 height to NGF-IGN69 height (ballpark vertical transformation)\n",
      "Inverse of RGF93 v1 to ETRS89 (1)\n",
      "Inverse of NTF to RGF93 v1 (1)\n",
      "Inverse of NTF (Paris) to NTF (1)\n",
      "<bound method Transformer.transform_bounds of <Other Coordinate Operation Transformer: pipeline>\n",
      "Description: Transformation from EVRF2007 height to NGF-IGN69 height (ballpark vertical transformation) + Inverse of RGF93 v1 to ETRS89 (1) + Inverse of NTF to RGF93 v1 (1) + Inverse of NTF (Paris) to NTF (1)\n",
      "Area of Use:\n",
      "- name: France - onshore - mainland and Corsica.\n",
      "- bounds: (-4.87, 41.31, 9.63, 51.14)>\n",
      "+proj=pipeline +step +proj=axisswap +order=2,1 +step +proj=unitconvert +xy_in=deg +xy_out=rad +step +proj=push +v_3 +step +proj=cart +ellps=GRS80 +step +inv +proj=xyzgridshift +grids=fr_ign_gr3df97a.tif +grid_ref=output_crs +ellps=GRS80 +step +inv +proj=cart +ellps=clrk80ign +step +proj=pop +v_3 +step +proj=longlat +ellps=clrk80ign +pm=paris +step +proj=unitconvert +xy_in=rad +xy_out=grad +step +proj=axisswap +order=2,1\n",
      "------------------------------------------------------------------------------------------\n",
      "Transformation from EVRF2007 height to NGF-IGN69 height (ballpark vertical transformation)\n",
      "Inverse of ED50 to ETRS89 (12)\n",
      "Inverse of NTF to ED50 (1)\n",
      "Inverse of NTF (Paris) to NTF (1)\n",
      "<bound method Transformer.transform_bounds of <Other Coordinate Operation Transformer: pipeline>\n",
      "Description: Transformation from EVRF2007 height to NGF-IGN69 height (ballpark vertical transformation) + Inverse of ED50 to ETRS89 (12) + Inverse of NTF to ED50 (1) + Inverse of NTF (Paris) to NTF (1)\n",
      "Area of Use:\n",
      "- name: undefined\n",
      "- bounds: (-4.87, 41.31, 4.39, 43.82)>\n",
      "+proj=pipeline +step +proj=axisswap +order=2,1 +step +proj=unitconvert +xy_in=deg +xy_out=rad +step +inv +proj=hgridshift +grids=es_ign_SPED2ETV2.tif +step +proj=push +v_3 +step +proj=cart +ellps=intl +step +proj=helmert +x=84 +y=-37 +z=-437 +step +inv +proj=cart +ellps=clrk80ign +step +proj=pop +v_3 +step +proj=longlat +ellps=clrk80ign +pm=paris +step +proj=unitconvert +xy_in=rad +xy_out=grad +step +proj=axisswap +order=2,1\n",
      "------------------------------------------------------------------------------------------\n",
      "Transformation from EVRF2007 height to NGF-IGN69 height (ballpark vertical transformation)\n",
      "Inverse of ED50 to ETRS89 (14)\n",
      "Inverse of NTF to ED50 (1)\n",
      "Inverse of NTF (Paris) to NTF (1)\n",
      "<bound method Transformer.transform_bounds of <Other Coordinate Operation Transformer: pipeline>\n",
      "Description: Transformation from EVRF2007 height to NGF-IGN69 height (ballpark vertical transformation) + Inverse of ED50 to ETRS89 (14) + Inverse of NTF to ED50 (1) + Inverse of NTF (Paris) to NTF (1)\n",
      "Area of Use:\n",
      "- name: undefined\n",
      "- bounds: (0.16, 41.31, 3.39, 42.86)>\n",
      "+proj=pipeline +step +proj=axisswap +order=2,1 +step +proj=unitconvert +xy_in=deg +xy_out=rad +step +inv +proj=hgridshift +grids=es_cat_icgc_100800401.tif +step +proj=push +v_3 +step +proj=cart +ellps=intl +step +proj=helmert +x=84 +y=-37 +z=-437 +step +inv +proj=cart +ellps=clrk80ign +step +proj=pop +v_3 +step +proj=longlat +ellps=clrk80ign +pm=paris +step +proj=unitconvert +xy_in=rad +xy_out=grad +step +proj=axisswap +order=2,1\n",
      "------------------------------------------------------------------------------------------\n",
      "Transformation from EVRF2007 height to NGF-IGN69 height (ballpark vertical transformation)\n",
      "Ballpark geographic offset from ETRS89 to NTF (Paris) altered to use prime meridian of ETRS89\n",
      "Transformation from ETRS89 to NTF (Paris) altered to use prime meridian of ETRS89\n",
      "<bound method Transformer.transform_bounds of <Other Coordinate Operation Transformer: pipeline>\n",
      "Description: Transformation from EVRF2007 height to NGF-IGN69 height (ballpark vertical transformation) + Ballpark geographic offset from ETRS89 to NTF (Paris) altered to use prime meridian of ETRS89 + Transformation from ETRS89 to NTF (Paris) altered to use prime meridian of ETRS89\n",
      "Area of Use:\n",
      "- name: World\n",
      "- bounds: (-180.0, -90.0, 180.0, 90.0)>\n",
      "+proj=pipeline +step +proj=axisswap +order=2,1 +step +proj=unitconvert +xy_in=deg +xy_out=rad +step +proj=longlat +ellps=clrk80ign +pm=paris +step +proj=unitconvert +xy_in=rad +xy_out=grad +step +proj=axisswap +order=2,1\n",
      "------------------------------------------------------------------------------------------\n",
      "Transformation from EVRF2007 height to NGF-IGN69 height (ballpark vertical transformation)\n",
      "Inverse of NTF to ETRS89 (1)\n",
      "Inverse of NTF (Paris) to NTF (1)\n",
      "<bound method Transformer.transform_bounds of <Other Coordinate Operation Transformer: pipeline>\n",
      "Description: Transformation from EVRF2007 height to NGF-IGN69 height (ballpark vertical transformation) + Inverse of NTF to ETRS89 (1) + Inverse of NTF (Paris) to NTF (1)\n",
      "Area of Use:\n",
      "- name: France - onshore - mainland and Corsica.\n",
      "- bounds: (-4.87, 41.31, 9.63, 51.14)>\n",
      "+proj=pipeline +step +proj=axisswap +order=2,1 +step +proj=unitconvert +xy_in=deg +xy_out=rad +step +proj=push +v_3 +step +proj=cart +ellps=GRS80 +step +proj=helmert +x=168 +y=60 +z=-320 +step +inv +proj=cart +ellps=clrk80ign +step +proj=pop +v_3 +step +proj=longlat +ellps=clrk80ign +pm=paris +step +proj=unitconvert +xy_in=rad +xy_out=grad +step +proj=axisswap +order=2,1\n",
      "------------------------------------------------------------------------------------------\n",
      "Transformation from EVRF2007 height to NGF-IGN69 height (ballpark vertical transformation)\n",
      "Inverse of NTF to ETRS89 (1)\n",
      "Inverse of NTF (Paris) to NTF (2)\n",
      "<bound method Transformer.transform_bounds of <Other Coordinate Operation Transformer: pipeline>\n",
      "Description: Transformation from EVRF2007 height to NGF-IGN69 height (ballpark vertical transformation) + Inverse of NTF to ETRS89 (1) + Inverse of NTF (Paris) to NTF (2)\n",
      "Area of Use:\n",
      "- name: France - onshore - mainland and Corsica.\n",
      "- bounds: (-4.87, 41.31, 9.63, 51.14)>\n",
      "+proj=pipeline +step +proj=axisswap +order=2,1 +step +proj=unitconvert +xy_in=deg +xy_out=rad +step +proj=push +v_3 +step +proj=cart +ellps=GRS80 +step +proj=helmert +x=168 +y=60 +z=-320 +step +inv +proj=cart +ellps=clrk80ign +step +proj=pop +v_3 +step +inv +proj=longlat +ellps=clrk80ign +pm=-2.33720833333333 +step +proj=unitconvert +xy_in=rad +xy_out=grad +step +proj=axisswap +order=2,1\n",
      "------------------------------------------------------------------------------------------\n",
      "Transformation from EVRF2007 height to NGF-IGN69 height (ballpark vertical transformation)\n",
      "ETRS89 to WGS 84 (1)\n",
      "Inverse of NTF to WGS 84 (1)\n",
      "Inverse of NTF (Paris) to NTF (1)\n",
      "<bound method Transformer.transform_bounds of <Other Coordinate Operation Transformer: pipeline>\n",
      "Description: Transformation from EVRF2007 height to NGF-IGN69 height (ballpark vertical transformation) + ETRS89 to WGS 84 (1) + Inverse of NTF to WGS 84 (1) + Inverse of NTF (Paris) to NTF (1)\n",
      "Area of Use:\n",
      "- name: France - onshore - mainland and Corsica.\n",
      "- bounds: (-4.87, 41.31, 9.63, 51.14)>\n",
      "+proj=pipeline +step +proj=axisswap +order=2,1 +step +proj=unitconvert +xy_in=deg +xy_out=rad +step +proj=push +v_3 +step +proj=cart +ellps=WGS84 +step +proj=helmert +x=168 +y=60 +z=-320 +step +inv +proj=cart +ellps=clrk80ign +step +proj=pop +v_3 +step +proj=longlat +ellps=clrk80ign +pm=paris +step +proj=unitconvert +xy_in=rad +xy_out=grad +step +proj=axisswap +order=2,1\n",
      "------------------------------------------------------------------------------------------\n",
      "Transformation from EVRF2007 height to NGF-IGN69 height (ballpark vertical transformation)\n",
      "Inverse of ED50 to ETRS89 (7)\n",
      "Inverse of NTF to ED50 (1)\n",
      "Inverse of NTF (Paris) to NTF (1)\n",
      "<bound method Transformer.transform_bounds of <Other Coordinate Operation Transformer: pipeline>\n",
      "Description: Transformation from EVRF2007 height to NGF-IGN69 height (ballpark vertical transformation) + Inverse of ED50 to ETRS89 (7) + Inverse of NTF to ED50 (1) + Inverse of NTF (Paris) to NTF (1)\n",
      "Area of Use:\n",
      "- name: undefined\n",
      "- bounds: (-4.87, 41.31, 3.39, 43.56)>\n",
      "+proj=pipeline +step +proj=axisswap +order=2,1 +step +proj=unitconvert +xy_in=deg +xy_out=rad +step +proj=push +v_3 +step +proj=cart +ellps=GRS80 +step +inv +proj=helmert +x=-131 +y=-100.3 +z=-163.4 +rx=-1.244 +ry=-0.02 +rz=-1.144 +s=9.39 +convention=position_vector +step +proj=helmert +x=84 +y=-37 +z=-437 +step +inv +proj=cart +ellps=clrk80ign +step +proj=pop +v_3 +step +proj=longlat +ellps=clrk80ign +pm=paris +step +proj=unitconvert +xy_in=rad +xy_out=grad +step +proj=axisswap +order=2,1\n",
      "------------------------------------------------------------------------------------------\n",
      "Transformation from EVRF2007 height to NGF-IGN69 height (ballpark vertical transformation)\n",
      "Inverse of ED50 to ETRS89 (8)\n",
      "Inverse of NTF to ED50 (1)\n",
      "Inverse of NTF (Paris) to NTF (1)\n",
      "<bound method Transformer.transform_bounds of <Other Coordinate Operation Transformer: pipeline>\n",
      "Description: Transformation from EVRF2007 height to NGF-IGN69 height (ballpark vertical transformation) + Inverse of ED50 to ETRS89 (8) + Inverse of NTF to ED50 (1) + Inverse of NTF (Paris) to NTF (1)\n",
      "Area of Use:\n",
      "- name: undefined\n",
      "- bounds: (-4.87, 41.5, -4.5, 43.82)>\n",
      "+proj=pipeline +step +proj=axisswap +order=2,1 +step +proj=unitconvert +xy_in=deg +xy_out=rad +step +proj=push +v_3 +step +proj=cart +ellps=GRS80 +step +inv +proj=helmert +x=-178.4 +y=-83.2 +z=-221.3 +rx=0.54 +ry=-0.532 +rz=-0.126 +s=21.2 +convention=position_vector +step +proj=helmert +x=84 +y=-37 +z=-437 +step +inv +proj=cart +ellps=clrk80ign +step +proj=pop +v_3 +step +proj=longlat +ellps=clrk80ign +pm=paris +step +proj=unitconvert +xy_in=rad +xy_out=grad +step +proj=axisswap +order=2,1\n",
      "------------------------------------------------------------------------------------------\n"
     ]
    }
   ],
   "source": [
    "# t = transformer.TransformerGroup('7423', '7400').transformers\n",
    "\n",
    "for i in transformer.TransformerGroup('7423', '7400').transformers:\n",
    "    print('\\n'.join(i.description.split(\" + \")))\n",
    "    print(i.transform_bounds)\n",
    "    print(i.to_proj4())\n",
    "    print('-----'*18)\n"
   ]
  },
  {
   "cell_type": "code",
   "execution_count": 6,
   "metadata": {},
   "outputs": [
    {
     "name": "stdout",
     "output_type": "stream",
     "text": [
      "(856653.7114768995, 6472052.912118874)\n"
     ]
    }
   ],
   "source": [
    "t = transformer.TransformerGroup('6893', '5698').transformers[0]\n",
    "print(t.transform(556597.4539663679, 5643224.164898887))"
   ]
  },
  {
   "cell_type": "code",
   "execution_count": 7,
   "metadata": {},
   "outputs": [],
   "source": [
    "t = transformer.TransformerGroup('4326', '5698').transformers[0]\n",
    "d = transformer.TransformerGroup('4326', '5720').transformers"
   ]
  },
  {
   "cell_type": "markdown",
   "metadata": {},
   "source": [
    "# List of transformations\n",
    "The main issue about listing transformations is the number; we have 6,400 coordinates in the reference system, which means we have approximately 6,400! transformations."
   ]
  },
  {
   "cell_type": "code",
   "execution_count": 3,
   "metadata": {},
   "outputs": [
    {
     "name": "stderr",
     "output_type": "stream",
     "text": [
      "c:\\Users\\jakog\\anaconda3\\envs\\pygdal\\lib\\site-packages\\pyproj\\transformer.py:207: UserWarning: Best transformation is not available due to missing Grid(short_name=NLCSRSV4A.GSB, full_name=, package_name=, url=, direct_download=False, open_license=False, available=False)\n",
      "  super().__init__(\n",
      "c:\\Users\\jakog\\anaconda3\\envs\\pygdal\\lib\\site-packages\\pyproj\\transformer.py:207: UserWarning: Best transformation is not available due to missing Grid(short_name=ca_que_mern_cq77na83.tif, full_name=, package_name=, url=https://cdn.proj.org/ca_que_mern_cq77na83.tif, direct_download=True, open_license=True, available=True)\n",
      "  super().__init__(\n",
      "c:\\Users\\jakog\\anaconda3\\envs\\pygdal\\lib\\site-packages\\pyproj\\transformer.py:207: UserWarning: Best transformation is not available due to missing Grid(short_name=ca_que_mern_cq77na83.tif, full_name=https://cdn.proj.org/ca_que_mern_cq77na83.tif, package_name=, url=https://cdn.proj.org/ca_que_mern_cq77na83.tif, direct_download=True, open_license=True, available=True)\n",
      "  super().__init__(\n",
      "c:\\Users\\jakog\\anaconda3\\envs\\pygdal\\lib\\site-packages\\pyproj\\transformer.py:207: UserWarning: Best transformation is not available due to missing Grid(short_name=ca_nrc_MAY76V20.tif, full_name=https://cdn.proj.org/ca_nrc_MAY76V20.tif, package_name=, url=https://cdn.proj.org/ca_nrc_MAY76V20.tif, direct_download=True, open_license=True, available=True)\n",
      "  super().__init__(\n"
     ]
    }
   ],
   "source": [
    "crs_list = list(query_crs_info(auth_name='EPSG'))\n",
    "with open('file.txt', 'w') as file:\n",
    "    for i in crs_list:\n",
    "        for j in crs_list:\n",
    "            try:\n",
    "                for t in transformer.TransformerGroup(i.code, j.code).transformers:\n",
    "                        file.write('\\n'.join(t.description.split(\" + \")))\n",
    "                        file.write(str(t.transform_bounds)+'\\n')\n",
    "                        file.write(t.to_proj4()+'\\n')\n",
    "                        file.write('-----'*18+'\\n')\n",
    "                        file.write('-----'*18+'\\n')\n",
    "            except:\n",
    "                pass"
   ]
  }
 ],
 "metadata": {
  "kernelspec": {
   "display_name": "gdalenv",
   "language": "python",
   "name": "pygdal"
  },
  "language_info": {
   "codemirror_mode": {
    "name": "ipython",
    "version": 3
   },
   "file_extension": ".py",
   "mimetype": "text/x-python",
   "name": "python",
   "nbconvert_exporter": "python",
   "pygments_lexer": "ipython3",
   "version": "3.9.6"
  },
  "orig_nbformat": 4
 },
 "nbformat": 4,
 "nbformat_minor": 2
}
